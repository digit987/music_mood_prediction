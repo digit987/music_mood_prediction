{
 "cells": [
  {
   "cell_type": "code",
   "execution_count": null,
   "metadata": {
    "collapsed": true
   },
   "outputs": [],
   "source": [
    "from sklearn.feature_extraction.text import CountVectorizer\n",
    "from sklearn.decomposition import LatentDirichletAllocation\n",
    "from sklearn import model_selection, preprocessing, svm\n",
    "from sklearn.naive_bayes import GaussianNB\n",
    "from sklearn.tree import DecisionTreeRegressor\n",
    "from sklearn.linear_model import LinearRegression\n",
    "from sklearn.ensemble import RandomForestRegressor\n",
    "from sklearn.cluster import KMeans\n",
    "from sklearn.metrics import mean_absolute_error, mean_squared_error, accuracy_score\n",
    "import pandas as pd\n",
    "import numpy as np\n",
    "import math\n",
    "import os"
   ]
  },
  {
   "cell_type": "code",
   "execution_count": null,
   "metadata": {
    "collapsed": true
   },
   "outputs": [],
   "source": [
    "mood_label = {\n",
    "    'angry' : 0,\n",
    "    'happy' : 1,\n",
    "    'relaxed' : 2,\n",
    "    'sad' : 3\n",
    "}\n",
    "df = pd.DataFrame(columns=['song_id', 'topic1', 'topic2', 'topic3', 'topic4', 'topic5', 'topic6', 'topic7', 'topic8', 'topic9', 'topic10', 'mood'])\n",
    "file_count = 0\n",
    "for filename in os.listdir('lyrics/'):\n",
    "    with open(os.path.join('lyrics/', filename), encoding='utf8') as f:\n",
    "        content = f.read()\n",
    "        vectorizer = CountVectorizer()\n",
    "        doc_term_matrix = vectorizer.fit_transform([content])\n",
    "        LDA = LatentDirichletAllocation(n_topics=5, random_state=36)\n",
    "        LDA.fit(doc_term_matrix)\n",
    "        topics = LDA.components_[0].argsort()[-10:]\n",
    "        f, mood_extract_from_filename = filename.split('_')\n",
    "        mood_extract_from_filename, t = mood_extract_from_filename.split('.')\n",
    "        df = df.append(\n",
    "        {\n",
    "            'song_id' : str(file_count),\n",
    "            'topic1' : vectorizer.get_feature_names()[topics[0]],\n",
    "            'topic2' : vectorizer.get_feature_names()[topics[1]],\n",
    "            'topic3' : vectorizer.get_feature_names()[topics[2]],\n",
    "            'topic4' : vectorizer.get_feature_names()[topics[3]],\n",
    "            'topic5' : vectorizer.get_feature_names()[topics[4]],\n",
    "            'topic6' : vectorizer.get_feature_names()[topics[5]],\n",
    "            'topic7' : vectorizer.get_feature_names()[topics[6]],\n",
    "            'topic8' : vectorizer.get_feature_names()[topics[7]],\n",
    "            'topic9' : vectorizer.get_feature_names()[topics[8]],\n",
    "            'topic10' : vectorizer.get_feature_names()[topics[9]],\n",
    "            'mood' : mood_label[mood_extract_from_filename]\n",
    "        } , ignore_index=True)\n",
    "    file_count += 1"
   ]
  },
  {
   "cell_type": "code",
   "execution_count": null,
   "metadata": {
    "collapsed": true
   },
   "outputs": [],
   "source": [
    "df"
   ]
  },
  {
   "cell_type": "code",
   "execution_count": null,
   "metadata": {
    "collapsed": true
   },
   "outputs": [],
   "source": [
    "count = 0\n",
    "labels = df['topic1'].unique().tolist()\n",
    "mapping = dict(zip(labels, range(len(labels))))\n",
    "df.replace({'topic1': mapping},inplace=True)\n",
    "count += len(labels)\n",
    "\n",
    "labels = df['topic2'].unique().tolist()\n",
    "mapping = dict(zip(labels, range(count, count + len(labels))))\n",
    "df.replace({'topic2': mapping},inplace=True)\n",
    "count += len(labels)\n",
    "\n",
    "labels = df['topic3'].unique().tolist()\n",
    "mapping = dict(zip(labels, range(count, count + len(labels))))\n",
    "df.replace({'topic3': mapping},inplace=True)\n",
    "count += len(labels)\n",
    "\n",
    "labels = df['topic4'].unique().tolist()\n",
    "mapping = dict(zip(labels, range(count, count + len(labels))))\n",
    "df.replace({'topic4': mapping},inplace=True)\n",
    "count += len(labels)\n",
    "\n",
    "labels = df['topic5'].unique().tolist()\n",
    "mapping = dict(zip(labels, range(count, count + len(labels))))\n",
    "df.replace({'topic5': mapping},inplace=True)\n",
    "count += len(labels)\n",
    "\n",
    "labels = df['topic6'].unique().tolist()\n",
    "mapping = dict(zip(labels, range(count, count + len(labels))))\n",
    "df.replace({'topic6': mapping},inplace=True)\n",
    "count += len(labels)\n",
    "\n",
    "labels = df['topic7'].unique().tolist()\n",
    "mapping = dict(zip(labels, range(count, count + len(labels))))\n",
    "df.replace({'topic7': mapping},inplace=True)\n",
    "count += len(labels)\n",
    "\n",
    "labels = df['topic8'].unique().tolist()\n",
    "mapping = dict(zip(labels, range(count, count + len(labels))))\n",
    "df.replace({'topic8': mapping},inplace=True)\n",
    "count += len(labels)\n",
    "\n",
    "labels = df['topic9'].unique().tolist()\n",
    "mapping = dict(zip(labels, range(count, count + len(labels))))\n",
    "df.replace({'topic9': mapping},inplace=True)\n",
    "count += len(labels)\n",
    "\n",
    "labels = df['topic10'].unique().tolist()\n",
    "mapping = dict(zip(labels, range(count, count + len(labels))))\n",
    "df.replace({'topic10': mapping},inplace=True)\n",
    "count += len(labels)\n",
    "\n",
    "df"
   ]
  },
  {
   "cell_type": "code",
   "execution_count": null,
   "metadata": {
    "collapsed": true
   },
   "outputs": [],
   "source": [
    "train_x, test_x, train_y, test_y = model_selection.train_test_split(df.loc[:, 'topic1':'topic10'], df['mood'])"
   ]
  },
  {
   "cell_type": "code",
   "execution_count": null,
   "metadata": {
    "collapsed": true
   },
   "outputs": [],
   "source": [
    "train_x = np.array(train_x)\n",
    "test_x = np.array(test_x)\n",
    "train_y = np.array(train_y)\n",
    "test_y = np.array(test_y)"
   ]
  },
  {
   "cell_type": "code",
   "execution_count": null,
   "metadata": {
    "collapsed": true
   },
   "outputs": [],
   "source": [
    "model = GaussianNB()\n",
    "gnb.fit(train_x, train_y)"
   ]
  },
  {
   "cell_type": "code",
   "execution_count": null,
   "metadata": {
    "collapsed": true
   },
   "outputs": [],
   "source": [
    "pred_y = gnb.predict(test_x)"
   ]
  },
  {
   "cell_type": "code",
   "execution_count": null,
   "metadata": {
    "collapsed": true
   },
   "outputs": [],
   "source": [
    "pred_y"
   ]
  },
  {
   "cell_type": "code",
   "execution_count": null,
   "metadata": {
    "collapsed": true
   },
   "outputs": [],
   "source": [
    "print(\"Accuracy:\",metrics.accuracy_score(test_y, pred_y))"
   ]
  },
  {
   "cell_type": "code",
   "execution_count": null,
   "metadata": {
    "collapsed": true
   },
   "outputs": [],
   "source": [
    "RMSE = math.sqrt(mean_squared_error(test_y, pred_y))\n",
    "print(RMSE)\n",
    "\n",
    "mae = mean_absolute_error(test_y, pred_y)\n",
    "print(mae)"
   ]
  }
 ],
 "metadata": {
  "kernelspec": {
   "display_name": "Python 3",
   "language": "python",
   "name": "python3"
  },
  "language_info": {
   "codemirror_mode": {
    "name": "ipython",
    "version": 3
   },
   "file_extension": ".py",
   "mimetype": "text/x-python",
   "name": "python",
   "nbconvert_exporter": "python",
   "pygments_lexer": "ipython3",
   "version": "3.6.6"
  }
 },
 "nbformat": 4,
 "nbformat_minor": 2
}
