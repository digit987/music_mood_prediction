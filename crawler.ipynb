{
 "cells": [
  {
   "cell_type": "code",
   "execution_count": null,
   "metadata": {
    "collapsed": true
   },
   "outputs": [],
   "source": [
    "import re\n",
    "import requests\n",
    "from bs4 import BeautifulSoup"
   ]
  },
  {
   "cell_type": "code",
   "execution_count": null,
   "metadata": {
    "collapsed": true
   },
   "outputs": [],
   "source": [
    "page = requests.get('http://www.whatobuy.in/sad-songs-lyrics-hindi-movies/')\n",
    "page"
   ]
  },
  {
   "cell_type": "code",
   "execution_count": null,
   "metadata": {
    "collapsed": true
   },
   "outputs": [],
   "source": [
    "soup = BeautifulSoup(page.content, 'html.parser')"
   ]
  },
  {
   "cell_type": "code",
   "execution_count": null,
   "metadata": {
    "collapsed": true
   },
   "outputs": [],
   "source": [
    "def remove_tags(crawled_lyrics):\n",
    "    lyrics = ''\n",
    "    for i in crawled_lyrics:\n",
    "        for j in i:\n",
    "            lyrics += str(j)\n",
    "    clean1 = re.compile('<.*?>')\n",
    "    clean2 = re.compile(' {2}')\n",
    "    clean3 = re.compile('^ {1}| {1}$')\n",
    "    lyrics = re.sub(clean1, ' ', lyrics)\n",
    "    lyrics = re.sub(clean2, ' ', lyrics)\n",
    "    lyrics = re.sub(clean3, '', lyrics)\n",
    "    return lyrics"
   ]
  },
  {
   "cell_type": "code",
   "execution_count": null,
   "metadata": {
    "collapsed": true
   },
   "outputs": [],
   "source": [
    "count = 0\n",
    "tables = soup.findAll(\"table\")\n",
    "for table in tables:\n",
    "    for i in table.find_all('a'):\n",
    "        soup1 = BeautifulSoup(requests.get(i['href'], allow_redirects = False).text, 'html.parser')\n",
    "        crawled_lyrics = soup1.find(\"div\", itemprop = 'text').select('p')[1:-2]\n",
    "        lyrics = remove_tags(crawled_lyrics)\n",
    "        f = open('song_lyrics/{}.txt'.format(count), 'w')\n",
    "        count += 1\n",
    "        f.write(lyrics)\n",
    "f.close()"
   ]
  }
 ],
 "metadata": {
  "kernelspec": {
   "display_name": "Python 3",
   "language": "python",
   "name": "python3"
  },
  "language_info": {
   "codemirror_mode": {
    "name": "ipython",
    "version": 3
   },
   "file_extension": ".py",
   "mimetype": "text/x-python",
   "name": "python",
   "nbconvert_exporter": "python",
   "pygments_lexer": "ipython3",
   "version": "3.6.6"
  }
 },
 "nbformat": 4,
 "nbformat_minor": 2
}
